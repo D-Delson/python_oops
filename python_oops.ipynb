{
  "nbformat": 4,
  "nbformat_minor": 0,
  "metadata": {
    "colab": {
      "provenance": [],
      "authorship_tag": "ABX9TyNqnCF8d10MKcy6gwhLviqv",
      "include_colab_link": true
    },
    "kernelspec": {
      "name": "python3",
      "display_name": "Python 3"
    },
    "language_info": {
      "name": "python"
    }
  },
  "cells": [
    {
      "cell_type": "markdown",
      "metadata": {
        "id": "view-in-github",
        "colab_type": "text"
      },
      "source": [
        "<a href=\"https://colab.research.google.com/github/D-Delson/python_oops/blob/main/python_oops.ipynb\" target=\"_parent\"><img src=\"https://colab.research.google.com/assets/colab-badge.svg\" alt=\"Open In Colab\"/></a>"
      ]
    },
    {
      "cell_type": "code",
      "execution_count": 1,
      "metadata": {
        "id": "9ogMTYMFms1A",
        "outputId": "d3d78db6-1246-4c68-b8fa-c6bc2ad8df3d",
        "colab": {
          "base_uri": "https://localhost:8080/"
        }
      },
      "outputs": [
        {
          "output_type": "stream",
          "name": "stdout",
          "text": [
            "<__main__.Myclass object at 0x7c2ba83c3670>\n"
          ]
        }
      ],
      "source": [
        "#creating a empty class\n",
        "class Myclass(object):\n",
        "  pass\n",
        "\n",
        "this_obj = Myclass() # this_obj is a Myclass instance or Myclass object\n",
        "\n",
        "print(this_obj)"
      ]
    },
    {
      "cell_type": "code",
      "source": [
        "#__main__ represents  the main module in which this code is being run\n",
        "# the hex code to the right refers to the address and memory where the obj is being stored"
      ],
      "metadata": {
        "id": "hMqd_tDQiH27"
      },
      "execution_count": 2,
      "outputs": []
    },
    {
      "cell_type": "code",
      "source": [
        "class Myclass(object):\n",
        "  var = 10 # just added variable to the Myclass\n",
        "\n",
        "this_obj  = Myclass()\n",
        "this_obj.var # outputs the var value 10\n",
        "             # this_obj is object and var is it's attribute\n",
        "             # the attributes is not located in the instance it's located in the class\n",
        "             # the instance or object looks for var in the class"
      ],
      "metadata": {
        "id": "FtNnllOfjVC8",
        "outputId": "f4682a1e-25d6-4f2e-e33c-3bf90b95498c",
        "colab": {
          "base_uri": "https://localhost:8080/"
        }
      },
      "execution_count": 3,
      "outputs": [
        {
          "output_type": "execute_result",
          "data": {
            "text/plain": [
              "10"
            ]
          },
          "metadata": {},
          "execution_count": 3
        }
      ]
    },
    {
      "cell_type": "code",
      "source": [
        "class Myclass(object):\n",
        "  def call_me(self):#here call me is called as method\n",
        "                    #when a method is called on an instance the instance is passed as the implicit first argument for that we use self\n",
        "    print('calling call_me method with instance: ')\n",
        "\n",
        "obj = Myclass()\n",
        "obj.call_me()\n",
        "\n"
      ],
      "metadata": {
        "id": "CdS0S6kMjgfl",
        "outputId": "0f9654dc-38b9-46c7-b1f6-e49883afe327",
        "colab": {
          "base_uri": "https://localhost:8080/"
        }
      },
      "execution_count": 11,
      "outputs": [
        {
          "output_type": "stream",
          "name": "stdout",
          "text": [
            "calling call_me method with instance: \n"
          ]
        }
      ]
    },
    {
      "cell_type": "code",
      "source": [
        "#instance attributes\n",
        "import random\n",
        "\n",
        "class Myclass():\n",
        "  def dothis(self): # self is the instance which we call\n",
        "    self.rand_val = random.randint(1, 10)# here we set the attributes to the instance not in the class\n",
        "\n",
        "inst = Myclass()\n",
        "inst.dothis()\n",
        "inst.rand_val # here see that this syntax is used to access the class variables"
      ],
      "metadata": {
        "id": "qzrWzabDn1t9",
        "outputId": "86625a9f-92a3-4880-8c68-40894efbadd3",
        "colab": {
          "base_uri": "https://localhost:8080/"
        }
      },
      "execution_count": 14,
      "outputs": [
        {
          "output_type": "execute_result",
          "data": {
            "text/plain": [
              "5"
            ]
          },
          "metadata": {},
          "execution_count": 14
        }
      ]
    },
    {
      "cell_type": "code",
      "source": [],
      "metadata": {
        "id": "i-bptNessSEV"
      },
      "execution_count": null,
      "outputs": []
    }
  ]
}