{
  "nbformat": 4,
  "nbformat_minor": 0,
  "metadata": {
    "colab": {
      "provenance": [],
      "authorship_tag": "ABX9TyNLlbYZm+rLsw5XWOCP1cQD",
      "include_colab_link": true
    },
    "kernelspec": {
      "name": "python3",
      "display_name": "Python 3"
    },
    "language_info": {
      "name": "python"
    }
  },
  "cells": [
    {
      "cell_type": "markdown",
      "metadata": {
        "id": "view-in-github",
        "colab_type": "text"
      },
      "source": [
        "<a href=\"https://colab.research.google.com/github/D-Delson/python_oops/blob/main/python_oops.ipynb\" target=\"_parent\"><img src=\"https://colab.research.google.com/assets/colab-badge.svg\" alt=\"Open In Colab\"/></a>"
      ]
    },
    {
      "cell_type": "code",
      "execution_count": null,
      "metadata": {
        "id": "9ogMTYMFms1A",
        "outputId": "d3d78db6-1246-4c68-b8fa-c6bc2ad8df3d",
        "colab": {
          "base_uri": "https://localhost:8080/"
        }
      },
      "outputs": [
        {
          "output_type": "stream",
          "name": "stdout",
          "text": [
            "<__main__.Myclass object at 0x7c2ba83c3670>\n"
          ]
        }
      ],
      "source": [
        "#creating a empty class\n",
        "class Myclass(object):\n",
        "  pass\n",
        "\n",
        "this_obj = Myclass() # this_obj is a Myclass instance or Myclass object\n",
        "\n",
        "print(this_obj)"
      ]
    },
    {
      "cell_type": "code",
      "source": [
        "#__main__ represents  the main module in which this code is being run\n",
        "# the hex code to the right refers to the address and memory where the obj is being stored"
      ],
      "metadata": {
        "id": "hMqd_tDQiH27"
      },
      "execution_count": null,
      "outputs": []
    },
    {
      "cell_type": "code",
      "source": [
        "class Myclass(object):\n",
        "  var = 10 # just added variable to the Myclass\n",
        "\n",
        "this_obj  = Myclass()\n",
        "this_obj.var # outputs the var value 10\n",
        "             # this_obj is object and var is it's attribute\n",
        "             # the attributes is not located in the instance it's located in the class\n",
        "             # the instance or object looks for var in the class"
      ],
      "metadata": {
        "id": "FtNnllOfjVC8",
        "outputId": "f4682a1e-25d6-4f2e-e33c-3bf90b95498c",
        "colab": {
          "base_uri": "https://localhost:8080/"
        }
      },
      "execution_count": null,
      "outputs": [
        {
          "output_type": "execute_result",
          "data": {
            "text/plain": [
              "10"
            ]
          },
          "metadata": {},
          "execution_count": 3
        }
      ]
    },
    {
      "cell_type": "code",
      "source": [
        "class Myclass(object):\n",
        "  def call_me(self):#here call me is called as method\n",
        "                    #when a method is called on an instance the instance is passed as the implicit first argument for that we use self\n",
        "    print('calling call_me method with instance: ')\n",
        "\n",
        "obj = Myclass()\n",
        "obj.call_me()\n",
        "\n"
      ],
      "metadata": {
        "id": "CdS0S6kMjgfl",
        "outputId": "0f9654dc-38b9-46c7-b1f6-e49883afe327",
        "colab": {
          "base_uri": "https://localhost:8080/"
        }
      },
      "execution_count": null,
      "outputs": [
        {
          "output_type": "stream",
          "name": "stdout",
          "text": [
            "calling call_me method with instance: \n"
          ]
        }
      ]
    },
    {
      "cell_type": "code",
      "source": [
        "#instance attributes\n",
        "import random\n",
        "\n",
        "class Myclass():\n",
        "  def dothis(self): # self is the instance which we call\n",
        "    self.rand_val = random.randint(1, 10)# here we set the attributes to the instance not in the class\n",
        "\n",
        "inst = Myclass()\n",
        "inst.dothis()\n",
        "inst.rand_val # here see that this syntax is used to access the class variables"
      ],
      "metadata": {
        "id": "qzrWzabDn1t9",
        "outputId": "86625a9f-92a3-4880-8c68-40894efbadd3",
        "colab": {
          "base_uri": "https://localhost:8080/"
        }
      },
      "execution_count": null,
      "outputs": [
        {
          "output_type": "execute_result",
          "data": {
            "text/plain": [
              "5"
            ]
          },
          "metadata": {},
          "execution_count": 14
        }
      ]
    },
    {
      "cell_type": "code",
      "source": [
        "#inheritence\n",
        "class Animal:\n",
        "  def speak(self):\n",
        "    print('Animals don\\'t speak')\n",
        "\n",
        "class Dog(Animal):\n",
        "  def eat(self):\n",
        "    print('dog can eat')\n",
        "\n",
        "d = Dog()\n",
        "d.speak()"
      ],
      "metadata": {
        "id": "i-bptNessSEV",
        "colab": {
          "base_uri": "https://localhost:8080/"
        },
        "outputId": "9650390d-0bc1-4c42-c89f-6f9aca92a0dc"
      },
      "execution_count": 1,
      "outputs": [
        {
          "output_type": "stream",
          "name": "stdout",
          "text": [
            "Animals don't speak\n"
          ]
        }
      ]
    },
    {
      "cell_type": "code",
      "source": [
        "#encapusulation\n",
        "class Computer:\n",
        "  def __init__(self):\n",
        "    self.__maxprice = 900\n",
        "\n",
        "  def sell(self):\n",
        "    print(f'the selling price of the computer : {self.__maxprice}')\n",
        "\n",
        "  def set_max_price(self, price):\n",
        "    self.__maxprice = price\n",
        "\n",
        "c = Computer()\n",
        "c.sell()\n",
        "\n",
        "c.set_max_price(1000)\n",
        "c.sell()\n",
        "\n",
        "c.set_max_price(105)\n",
        "c.sell()\n"
      ],
      "metadata": {
        "colab": {
          "base_uri": "https://localhost:8080/"
        },
        "id": "RH73nqooZcWb",
        "outputId": "94cb16e7-b211-47c2-8be6-66a4b8fadd34"
      },
      "execution_count": 4,
      "outputs": [
        {
          "output_type": "stream",
          "name": "stdout",
          "text": [
            "the selling price of the computer : 900\n",
            "the selling price of the computer : 1000\n",
            "the selling price of the computer : 105\n"
          ]
        }
      ]
    },
    {
      "cell_type": "code",
      "source": [
        "#polymorphism\n",
        "class India:\n",
        "  def capital(self):\n",
        "    print('New Delhi')\n",
        "\n",
        "  def language(self):\n",
        "    print('Hindi is the most speaking language')\n",
        "\n",
        "\n",
        "class USA:\n",
        "  def capital(self):\n",
        "    print('Washington DC')\n",
        "\n",
        "  def language(self):\n",
        "    print('English')\n",
        "\n",
        "i = India()\n",
        "u = USA()\n",
        "\n",
        "def func(obj):\n",
        "  obj.capital()\n",
        "  obj.language()\n",
        "\n",
        "func(i)\n",
        "func(u)"
      ],
      "metadata": {
        "colab": {
          "base_uri": "https://localhost:8080/"
        },
        "id": "GONi8yFqaK3-",
        "outputId": "81f25534-b832-46b4-9043-f4bb1e4fa7f4"
      },
      "execution_count": 6,
      "outputs": [
        {
          "output_type": "stream",
          "name": "stdout",
          "text": [
            "New Delhi\n",
            "Hindi is the most speaking language\n",
            "Washington DC\n",
            "English\n"
          ]
        }
      ]
    },
    {
      "cell_type": "code",
      "source": [],
      "metadata": {
        "id": "f1lItpnBbCFH"
      },
      "execution_count": null,
      "outputs": []
    }
  ]
}